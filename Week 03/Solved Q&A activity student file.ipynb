{
 "cells": [
  {
   "cell_type": "markdown",
   "metadata": {
    "id": "4z_Z-K1tlrS7"
   },
   "source": [
    "## 1. Complete the following code to find the area of an equilateral triangle. Output should be as displayed"
   ]
  },
  {
   "cell_type": "code",
   "execution_count": 5,
   "metadata": {
    "id": "rP2qFD_SlrS_"
   },
   "outputs": [
    {
     "name": "stdout",
     "output_type": "stream",
     "text": [
      "Enter the number of sides of your equilateral triangle: 3\n",
      "Area of equilateral triangle:  3.8971143170299736\n"
     ]
    }
   ],
   "source": [
    "import math\n",
    "side = float(input(\"Enter the number of sides of your equilateral triangle: \"))\n",
    "area = ((math.sqrt(3))/4)*pow(side,2)\n",
    "print(\"Area of equilateral triangle: \", area)"
   ]
  },
  {
   "cell_type": "markdown",
   "metadata": {
    "id": "TjVKjIfclrTB"
   },
   "source": [
    "## 2. Write a program to count the number of each characters in a string"
   ]
  },
  {
   "cell_type": "code",
   "execution_count": 6,
   "metadata": {
    "id": "JY5seVUQlrTC"
   },
   "outputs": [
    {
     "name": "stdout",
     "output_type": "stream",
     "text": [
      "Enter the value of the desired string: Chinchu\n",
      "C -  1\n",
      "h -  2\n",
      "i -  1\n",
      "n -  1\n",
      "c -  1\n",
      "u -  1\n"
     ]
    }
   ],
   "source": [
    "def count_char(text):\n",
    "  for i in range(len(text)):\n",
    "    if len(text) == 0:\n",
    "      break;\n",
    "    ch = text[0]\n",
    "    if ch == ' ' or ch == '\\t':\n",
    "      continue\n",
    "    print(ch + \" - \", text.count(ch))\n",
    "    text = text.replace(ch, '').strip()\n",
    "string1=input(\"Enter the value of the desired string: \")\n",
    "count_char(string1)"
   ]
  },
  {
   "cell_type": "markdown",
   "metadata": {
    "id": "l3LCULfklrTD"
   },
   "source": [
    "## 3. Write a program to find the area and perimeter of a rectangle using functions"
   ]
  },
  {
   "cell_type": "code",
   "execution_count": 4,
   "metadata": {
    "id": "8haQD8edlrTD"
   },
   "outputs": [
    {
     "name": "stdout",
     "output_type": "stream",
     "text": [
      "Enter the length of rectangle: 2\n",
      "Enter the breadth of rectangle: 3\n",
      "Area:  6\n",
      "Perimeter:  10\n"
     ]
    }
   ],
   "source": [
    "def area(l,b):\n",
    "   Area=l*b\n",
    "   return Area\n",
    "def peri(l,b):\n",
    "    Perimeter=2*(l+b)\n",
    "    return Perimeter\n",
    "length=int(input(\"Enter the length of rectangle: \"))\n",
    "breadth=int(input(\"Enter the breadth of rectangle: \"))\n",
    "print(\"Area: \",area(length,breadth))\n",
    "print(\"Perimeter: \",peri(length,breadth))"
   ]
  },
  {
   "cell_type": "markdown",
   "metadata": {
    "id": "JHK4ZdsflrTE"
   },
   "source": [
    "## 4. Write a program to print the fibonacci series till a specified number"
   ]
  },
  {
   "cell_type": "code",
   "execution_count": 7,
   "metadata": {
    "id": "LyBEj-4SlrTE"
   },
   "outputs": [
    {
     "name": "stdout",
     "output_type": "stream",
     "text": [
      "How much number you want to include in your Fibonacci series excluding 0? :10\n",
      "0\n",
      "1\n",
      "1\n",
      "2\n",
      "3\n",
      "5\n",
      "8\n",
      "13\n",
      "21\n",
      "34\n",
      "55\n"
     ]
    }
   ],
   "source": [
    "def fib(number_of_terms):\n",
    "   counter = 0\n",
    "   first = 0\n",
    "   second = 1\n",
    "   temp = 0\n",
    " \n",
    "   while counter <= number_of_terms:\n",
    "      print(first)\n",
    "      temp = first + second\n",
    "      first = second\n",
    "      second = temp\n",
    "      counter = counter + 1\n",
    "\n",
    "count=int(input('How much number you want to include in your Fibonacci series excluding 0? :'))    \n",
    "fib(count)"
   ]
  },
  {
   "cell_type": "markdown",
   "metadata": {
    "id": "u4uBUcQKlrTE"
   },
   "source": [
    "## 5. Complete the following code to find the minimum of 3 number using conditional statements. Output should be as displayed"
   ]
  },
  {
   "cell_type": "code",
   "execution_count": 13,
   "metadata": {
    "id": "XdZwrZjIlrTF"
   },
   "outputs": [
    {
     "name": "stdout",
     "output_type": "stream",
     "text": [
      "Enter three numbers followed by space :5 3 8\n",
      "First number : 5\n",
      "Second number : 3\n",
      "Third number : 8\n",
      "3  is smallest\n"
     ]
    }
   ],
   "source": [
    "a,b,c = input(\"Enter three numbers followed by space :\").split()\n",
    "\n",
    "print(\"First number :\",a)\n",
    "print(\"Second number :\",b)\n",
    "print(\"Third number :\",c)\n",
    "if(a==b) and (a==c):\n",
    "   print(\"Entered numbers are equal!!!\")\n",
    "elif(a <= b) and (a <= c):\n",
    "       print(a,\" is smallest\")\n",
    "elif(b <= a) and (a <= c): \n",
    "       print(b,\" is smallest\")\n",
    "else:  \n",
    "       print(c,\" is smallest\")"
   ]
  },
  {
   "cell_type": "markdown",
   "metadata": {
    "id": "aR_CnToWlrTG"
   },
   "source": [
    "## 6. Write a program to print star pyramind. The number of rows should be taken as input from the user"
   ]
  },
  {
   "cell_type": "code",
   "execution_count": 22,
   "metadata": {
    "id": "M37A-buplrTG"
   },
   "outputs": [
    {
     "name": "stdout",
     "output_type": "stream",
     "text": [
      "Enter the number of rows for your pyramid: 5\n",
      "        * \n",
      "      * * * \n",
      "    * * * * * \n",
      "  * * * * * * * \n",
      "* * * * * * * * * \n"
     ]
    }
   ],
   "source": [
    "rows=int(input(\"Enter the number of rows for your pyramid: \"))\n",
    "\n",
    "k=0\n",
    "    \n",
    "for i in range(1, rows+1):\n",
    "    for space in range(1, (rows-i)+1):\n",
    "        print(end=\"  \")\n",
    "        \n",
    "    while k!=(2*i-1):\n",
    "        print(\"* \", end=\"\")\n",
    "        k+=1\n",
    "\n",
    "    k=0\n",
    "    print()"
   ]
  },
  {
   "cell_type": "markdown",
   "metadata": {
    "id": "tlY6aFWBlrTH"
   },
   "source": [
    "## 7. Complete the following code to convert hour into seconds. Output should be as displayed"
   ]
  },
  {
   "cell_type": "code",
   "execution_count": 15,
   "metadata": {
    "id": "YOZQFk7FlrTH"
   },
   "outputs": [
    {
     "name": "stdout",
     "output_type": "stream",
     "text": [
      "Give the value of time in hours? :6\n",
      "6 Hour is equal to 360 Seconds\n"
     ]
    }
   ],
   "source": [
    "def to_seconds(t):\n",
    "    t=t*60\n",
    "    return t\n",
    "time_in_hours = int(input('Give the value of time in hours? :'))\n",
    "print(time_in_hours ,\"Hour is equal to\" ,to_seconds(time_in_hours) ,\"Seconds\")"
   ]
  },
  {
   "cell_type": "markdown",
   "metadata": {
    "id": "CnYorNiLlrTI"
   },
   "source": [
    "## 8. Write a program to print multiplication table as below"
   ]
  },
  {
   "cell_type": "code",
   "execution_count": 16,
   "metadata": {
    "id": "dPQqDPuDlrTI"
   },
   "outputs": [
    {
     "name": "stdout",
     "output_type": "stream",
     "text": [
      "Give the number to create the multiplication table of it :12\n",
      "1 * 12 = 12\n",
      "2 * 12 = 24\n",
      "3 * 12 = 36\n",
      "4 * 12 = 48\n",
      "5 * 12 = 60\n",
      "6 * 12 = 72\n",
      "7 * 12 = 84\n",
      "8 * 12 = 96\n",
      "9 * 12 = 108\n",
      "10 * 12 = 120\n",
      "11 * 12 = 132\n"
     ]
    }
   ],
   "source": [
    "def table(n):\n",
    "    for i in range (1,12):\n",
    "        print(i,'*',n,'=',i*n)\n",
    "        \n",
    "number=int(input('Give the number to create the multiplication table of it :'))\n",
    "table(number)"
   ]
  },
  {
   "cell_type": "markdown",
   "metadata": {
    "id": "Fiaez8iblrTI"
   },
   "source": [
    "## 9. Write a program to take your 5 favorite food as list and print each as 'I like Biriyani'"
   ]
  },
  {
   "cell_type": "code",
   "execution_count": 17,
   "metadata": {
    "id": "39W1zFX7lrTJ"
   },
   "outputs": [
    {
     "name": "stdout",
     "output_type": "stream",
     "text": [
      "Give me the name of your No.1 favourite food? :\n",
      "Pastry\n",
      "Give me the name of your No.2 favourite food? :\n",
      "Desserts\n",
      "Give me the name of your No.3 favourite food? :\n",
      "Pudding\n",
      "Give me the name of your No.4 favourite food? :\n",
      "Biriyani\n",
      "Give me the name of your No.5 favourite food? :\n",
      "Cookies\n",
      "I Like Pastry\n",
      "I Like Desserts\n",
      "I Like Pudding\n",
      "I Like Biriyani\n",
      "I Like Cookies\n"
     ]
    }
   ],
   "source": [
    "i=1\n",
    "fav_food=[]\n",
    "while (i<=5):\n",
    "    print('Give me the name of your No.'+str(i),'favourite food? :')\n",
    "    fav_food.insert(i, str(input()))\n",
    "    i+=1\n",
    "    \n",
    "for j in fav_food:\n",
    "    print('I Like',j)"
   ]
  },
  {
   "cell_type": "markdown",
   "metadata": {
    "id": "3vlcDNNEP7d_"
   },
   "source": [
    "## 10. Find error(s) in the following code(if any) and rewrite code.\n",
    "\n"
   ]
  },
  {
   "cell_type": "code",
   "execution_count": 18,
   "metadata": {
    "id": "coREkcY3P9sG"
   },
   "outputs": [
    {
     "name": "stdout",
     "output_type": "stream",
     "text": [
      "Enter value of x:5\n",
      "They are unequal\n",
      "They are unequal\n",
      "They are unequal\n",
      "They are unequal\n",
      "They are unequal\n",
      "They are equal\n",
      "They are unequal\n",
      "They are unequal\n",
      "They are unequal\n",
      "They are unequal\n"
     ]
    }
   ],
   "source": [
    "try:\n",
    "  x = int(input(\"Enter value of x:\"))\n",
    "  for y in range(0,10):     \n",
    "     if(x==y):\n",
    "          print(\"They are equal\")\n",
    "     else:\n",
    "         print(\"They are unequal\")\n",
    "except ValueError:\n",
    "  print(\"That was not a number!\")"
   ]
  }
 ],
 "metadata": {
  "colab": {
   "collapsed_sections": [],
   "name": "Q&A activity student file.ipynb",
   "provenance": []
  },
  "kernelspec": {
   "display_name": "Python 3 (ipykernel)",
   "language": "python",
   "name": "python3"
  },
  "language_info": {
   "codemirror_mode": {
    "name": "ipython",
    "version": 3
   },
   "file_extension": ".py",
   "mimetype": "text/x-python",
   "name": "python",
   "nbconvert_exporter": "python",
   "pygments_lexer": "ipython3",
   "version": "3.8.8"
  }
 },
 "nbformat": 4,
 "nbformat_minor": 1
}
