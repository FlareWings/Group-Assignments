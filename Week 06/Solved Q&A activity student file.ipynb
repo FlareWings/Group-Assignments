{
 "cells": [
  {
   "cell_type": "markdown",
   "metadata": {},
   "source": [
    "# **Week 6 Activity**"
   ]
  },
  {
   "cell_type": "markdown",
   "metadata": {},
   "source": [
    "## Description"
   ]
  },
  {
   "cell_type": "markdown",
   "metadata": {},
   "source": [
    "### *We are going to carry out different tasks on the economical data of different countries. This data contains the details of 196 countries across various regions in the world*"
   ]
  },
  {
   "cell_type": "markdown",
   "metadata": {},
   "source": [
    "### Tasks"
   ]
  },
  {
   "cell_type": "markdown",
   "metadata": {},
   "source": [
    "#### 1) Find out how many countries are there in the dataset. \n",
    "#### 2) Examine the data by using visualizations. \n",
    "#### 3) Find out how many countries with respect to the region are availablein the dataset.\n",
    "#### 4) On average which region has the highest\n",
    "- GDP per capita (current US$)\n",
    "- International trade: Imports (million US$)\n",
    "#### 5) Find out which region has more consistent with respect to GDP percapita (current US$)."
   ]
  },
  {
   "cell_type": "markdown",
   "metadata": {},
   "source": [
    "### 1) Find out how many countries are there in the dataset."
   ]
  },
  {
   "cell_type": "code",
   "execution_count": 1,
   "metadata": {},
   "outputs": [],
   "source": [
    "# NumPy Library as np\n",
    "import numpy as np\n",
    "# Matplot Library as mpl\n",
    "import matplotlib as mpl\n",
    "# Matplot Library - PyPlot as plt\n",
    "import matplotlib.pyplot as plt\n",
    "# Pandas Library as pd\n",
    "import pandas as pd\n",
    "# Seaborn Library as sns\n",
    "import seaborn as sns"
   ]
  },
  {
   "cell_type": "code",
   "execution_count": 7,
   "metadata": {},
   "outputs": [
    {
     "data": {
      "text/html": [
       "<div>\n",
       "<style scoped>\n",
       "    .dataframe tbody tr th:only-of-type {\n",
       "        vertical-align: middle;\n",
       "    }\n",
       "\n",
       "    .dataframe tbody tr th {\n",
       "        vertical-align: top;\n",
       "    }\n",
       "\n",
       "    .dataframe thead th {\n",
       "        text-align: right;\n",
       "    }\n",
       "</style>\n",
       "<table border=\"1\" class=\"dataframe\">\n",
       "  <thead>\n",
       "    <tr style=\"text-align: right;\">\n",
       "      <th></th>\n",
       "      <th>country</th>\n",
       "      <th>Region</th>\n",
       "      <th>Surface area (km2)</th>\n",
       "      <th>Population in thousands (2017)</th>\n",
       "      <th>GDP per capita (current US$)</th>\n",
       "      <th>Agricultural production index</th>\n",
       "      <th>International trade: Imports (million US$)</th>\n",
       "    </tr>\n",
       "  </thead>\n",
       "  <tbody>\n",
       "    <tr>\n",
       "      <th>0</th>\n",
       "      <td>Afghanistan</td>\n",
       "      <td>SouthernAsia</td>\n",
       "      <td>652864</td>\n",
       "      <td>35530</td>\n",
       "      <td>623</td>\n",
       "      <td>125</td>\n",
       "      <td>3568</td>\n",
       "    </tr>\n",
       "    <tr>\n",
       "      <th>1</th>\n",
       "      <td>Albania</td>\n",
       "      <td>SouthernEurope</td>\n",
       "      <td>28748</td>\n",
       "      <td>2930</td>\n",
       "      <td>3,984</td>\n",
       "      <td>134</td>\n",
       "      <td>4669</td>\n",
       "    </tr>\n",
       "    <tr>\n",
       "      <th>2</th>\n",
       "      <td>Algeria</td>\n",
       "      <td>NorthernAfrica</td>\n",
       "      <td>2381741</td>\n",
       "      <td>41318</td>\n",
       "      <td>4,154</td>\n",
       "      <td>160</td>\n",
       "      <td>47091</td>\n",
       "    </tr>\n",
       "    <tr>\n",
       "      <th>3</th>\n",
       "      <td>Angola</td>\n",
       "      <td>MiddleAfrica</td>\n",
       "      <td>1246700</td>\n",
       "      <td>29784</td>\n",
       "      <td>4,714</td>\n",
       "      <td>175</td>\n",
       "      <td>8790</td>\n",
       "    </tr>\n",
       "    <tr>\n",
       "      <th>4</th>\n",
       "      <td>Antigua and Barbuda</td>\n",
       "      <td>Caribbean</td>\n",
       "      <td>442</td>\n",
       "      <td>102</td>\n",
       "      <td>14,764</td>\n",
       "      <td>88</td>\n",
       "      <td>491</td>\n",
       "    </tr>\n",
       "  </tbody>\n",
       "</table>\n",
       "</div>"
      ],
      "text/plain": [
       "               country          Region  Surface area (km2)  \\\n",
       "0          Afghanistan    SouthernAsia              652864   \n",
       "1              Albania  SouthernEurope               28748   \n",
       "2              Algeria  NorthernAfrica             2381741   \n",
       "3               Angola    MiddleAfrica             1246700   \n",
       "4  Antigua and Barbuda       Caribbean                 442   \n",
       "\n",
       "   Population in thousands (2017)  GDP per capita (current US$)  \\\n",
       "0                           35530                           623   \n",
       "1                            2930                         3,984   \n",
       "2                           41318                         4,154   \n",
       "3                           29784                         4,714   \n",
       "4                             102                        14,764   \n",
       "\n",
       "   Agricultural production index  International trade: Imports (million US$)  \n",
       "0                            125                                        3568  \n",
       "1                            134                                        4669  \n",
       "2                            160                                       47091  \n",
       "3                            175                                        8790  \n",
       "4                             88                                         491  "
      ]
     },
     "execution_count": 7,
     "metadata": {},
     "output_type": "execute_result"
    }
   ],
   "source": [
    "# Reading the 'Dataset_w6.xlsx' file using read_excel()\n",
    "Dataset = pd.read_excel('Dataset_w6.xlsx')\n",
    "# Displaying the first 5 observations using the head()\n",
    "Dataset.head()"
   ]
  },
  {
   "cell_type": "code",
   "execution_count": 6,
   "metadata": {},
   "outputs": [
    {
     "data": {
      "text/html": [
       "<div>\n",
       "<style scoped>\n",
       "    .dataframe tbody tr th:only-of-type {\n",
       "        vertical-align: middle;\n",
       "    }\n",
       "\n",
       "    .dataframe tbody tr th {\n",
       "        vertical-align: top;\n",
       "    }\n",
       "\n",
       "    .dataframe thead th {\n",
       "        text-align: right;\n",
       "    }\n",
       "</style>\n",
       "<table border=\"1\" class=\"dataframe\">\n",
       "  <thead>\n",
       "    <tr style=\"text-align: right;\">\n",
       "      <th></th>\n",
       "      <th>country</th>\n",
       "      <th>Region</th>\n",
       "      <th>Surface_area_(km2)</th>\n",
       "      <th>Population_in_thousands_(2017)</th>\n",
       "      <th>GDP_per_capita_(current_US$)</th>\n",
       "      <th>Agricultural_production_index</th>\n",
       "      <th>International_trade:_Imports_(million_US$)</th>\n",
       "    </tr>\n",
       "  </thead>\n",
       "  <tbody>\n",
       "  </tbody>\n",
       "</table>\n",
       "</div>"
      ],
      "text/plain": [
       "Empty DataFrame\n",
       "Columns: [country, Region, Surface_area_(km2), Population_in_thousands_(2017), GDP_per_capita_(current_US$), Agricultural_production_index, International_trade:_Imports_(million_US$)]\n",
       "Index: []"
      ]
     },
     "execution_count": 6,
     "metadata": {},
     "output_type": "execute_result"
    }
   ],
   "source": [
    "# Checking for null values\n",
    "Dataset[Dataset.isna().any(axis=1)]"
   ]
  },
  {
   "cell_type": "code",
   "execution_count": 42,
   "metadata": {},
   "outputs": [
    {
     "name": "stdout",
     "output_type": "stream",
     "text": [
      "This Dataframe consists of economical details of 196 countries.\n"
     ]
    }
   ],
   "source": [
    "# No Null values Found!\n",
    "# Displaying the country count using Dataframe.category.count()\n",
    "print('This Dataframe consists of economical details of',Dataset.country.count(),'countries.')\n",
    "# Alternative method: Dataset.country.unique().size"
   ]
  },
  {
   "cell_type": "markdown",
   "metadata": {},
   "source": [
    "### 2) Examine the data by using visualizations."
   ]
  },
  {
   "cell_type": "code",
   "execution_count": 76,
   "metadata": {},
   "outputs": [
    {
     "data": {
      "image/png": "[encoded data removed]",
      "text/plain": [
       "<Figure size 360x360 with 1 Axes>"
      ]
     },
     "metadata": {
      "needs_background": "light"
     },
     "output_type": "display_data"
    }
   ],
   "source": [
    "sns.relplot(data=Dataset, x=\"Surface_area (km2)\", y=\"Agricultural production index\")\n",
    "sns.rugplot(data=Dataset, x=\"Surface_area (km2)\", y=\"Agricultural production index\")\n",
    "plt.xlabel(\"Surface area in Km2\", fontsize='15')\n",
    "plt.ylabel(\"Agr. Production Index\", fontsize='15')\n",
    "plt.title(\"Area Vs A.P Index\", fontsize='20')\n",
    "plt.show()"
   ]
  },
  {
   "cell_type": "code",
   "execution_count": 3,
   "metadata": {},
   "outputs": [
    {
     "data": {
      "text/html": [
       "<div>\n",
       "<style scoped>\n",
       "    .dataframe tbody tr th:only-of-type {\n",
       "        vertical-align: middle;\n",
       "    }\n",
       "\n",
       "    .dataframe tbody tr th {\n",
       "        vertical-align: top;\n",
       "    }\n",
       "\n",
       "    .dataframe thead th {\n",
       "        text-align: right;\n",
       "    }\n",
       "</style>\n",
       "<table border=\"1\" class=\"dataframe\">\n",
       "  <thead>\n",
       "    <tr style=\"text-align: right;\">\n",
       "      <th></th>\n",
       "      <th>Population in thousands (2017)</th>\n",
       "    </tr>\n",
       "    <tr>\n",
       "      <th>country</th>\n",
       "      <th></th>\n",
       "    </tr>\n",
       "  </thead>\n",
       "  <tbody>\n",
       "    <tr>\n",
       "      <th>China</th>\n",
       "      <td>1409517</td>\n",
       "    </tr>\n",
       "    <tr>\n",
       "      <th>India</th>\n",
       "      <td>1339180</td>\n",
       "    </tr>\n",
       "    <tr>\n",
       "      <th>United States of America</th>\n",
       "      <td>324460</td>\n",
       "    </tr>\n",
       "    <tr>\n",
       "      <th>Indonesia</th>\n",
       "      <td>263991</td>\n",
       "    </tr>\n",
       "    <tr>\n",
       "      <th>Brazil</th>\n",
       "      <td>209288</td>\n",
       "    </tr>\n",
       "    <tr>\n",
       "      <th>Pakistan</th>\n",
       "      <td>197016</td>\n",
       "    </tr>\n",
       "    <tr>\n",
       "      <th>Nigeria</th>\n",
       "      <td>190886</td>\n",
       "    </tr>\n",
       "    <tr>\n",
       "      <th>Bangladesh</th>\n",
       "      <td>164670</td>\n",
       "    </tr>\n",
       "    <tr>\n",
       "      <th>Russia</th>\n",
       "      <td>143990</td>\n",
       "    </tr>\n",
       "    <tr>\n",
       "      <th>Mexico</th>\n",
       "      <td>129163</td>\n",
       "    </tr>\n",
       "  </tbody>\n",
       "</table>\n",
       "</div>"
      ],
      "text/plain": [
       "                          Population in thousands (2017)\n",
       "country                                                 \n",
       "China                                            1409517\n",
       "India                                            1339180\n",
       "United States of America                          324460\n",
       "Indonesia                                         263991\n",
       "Brazil                                            209288\n",
       "Pakistan                                          197016\n",
       "Nigeria                                           190886\n",
       "Bangladesh                                        164670\n",
       "Russia                                            143990\n",
       "Mexico                                            129163"
      ]
     },
     "execution_count": 3,
     "metadata": {},
     "output_type": "execute_result"
    }
   ],
   "source": [
    "# Defining our data for the plot        \n",
    "Dataset1 = pd.DataFrame(Dataset, columns=['country', 'Population in thousands (2017)'])\n",
    "data_sorted = Dataset1.sort_values(by='Population in thousands (2017)', ascending=False)\n",
    "pd.options.display.float_format = '{:,.0f}'.format\n",
    "data_sorted.set_index('country', inplace=True)\n",
    "ranking = data_sorted.head(10)\n",
    "ranking    "
   ]
  },
  {
   "cell_type": "code",
   "execution_count": 126,
   "metadata": {},
   "outputs": [
    {
     "data": {
      "text/plain": [
       "Text(0.5, 69.0, 'Population in thousands (2017)')"
      ]
     },
     "execution_count": 126,
     "metadata": {},
     "output_type": "execute_result"
    },
    {
     "data": {
      "image/png": "[encoded data removed]",
      "text/plain": [
       "<Figure size 1440x720 with 1 Axes>"
      ]
     },
     "metadata": {},
     "output_type": "display_data"
    }
   ],
   "source": [
    "# Variables used in plot\n",
    "index = ranking.index\n",
    "values = ranking['Population in thousands (2017)']\n",
    "plot_title = 'Top 10 countries by Population in thousands (2017)'\n",
    "title_size = 18\n",
    "x_label = 'Population in thousands (2017)'\n",
    "ranking.sort_values(by='Population in thousands (2017)', inplace=True, ascending=True)\n",
    "# Plot initiating\n",
    "fig, ax = plt.subplots(figsize=(20,10), facecolor=(.94, .94, .94))\n",
    "mpl.pyplot.viridis()\n",
    "bar = ax.barh(index, values)\n",
    "plt.tight_layout()\n",
    "ax.xaxis.set_major_formatter(mpl.ticker.StrMethodFormatter('{x:,.0f}'))\n",
    "title = plt.title(plot_title, pad=20, fontsize=title_size)\n",
    "title.set_position([.33, 1])\n",
    "plt.subplots_adjust(top=0.9, bottom=0.1)\n",
    "ax.grid(zorder=0)\n",
    "\n",
    "def gradientbars(bars):\n",
    "    grad = np.atleast_2d(np.linspace(0,1,256))\n",
    "    ax = bars[0].axes\n",
    "    lim = ax.get_xlim()+ax.get_ylim()\n",
    "    for bar in bars:\n",
    "        bar.set_zorder(1)\n",
    "        bar.set_facecolor('none')\n",
    "        x,y = bar.get_xy()\n",
    "        w, h = bar.get_width(), bar.get_height()\n",
    "        ax.imshow(grad, extent=[x+w, x, y, y+h], aspect='auto', zorder=1)\n",
    "    ax.axis(lim)\n",
    "gradientbars(bar)\n",
    "rects = ax.patches\n",
    "\n",
    "# Placing a label for each bar\n",
    "for rect in rects:\n",
    "    # Get X and Y placement of label from rect\n",
    "    x_value = rect.get_width()\n",
    "    y_value = rect.get_y() + rect.get_height() / 2\n",
    "\n",
    "    # Number of points between bar and label\n",
    "    space = -45\n",
    "    # Vertical alignment for positive values\n",
    "    ha = 'left'\n",
    "\n",
    "    # If value of bar is negative: place label to the left of the bar\n",
    "    if x_value < 0:\n",
    "        # Invert space to place label to the left\n",
    "        space *= -1\n",
    "        # Horizontally align label to the right\n",
    "        ha = 'right'\n",
    "\n",
    "    # Use X value as label and format number\n",
    "    label = '{:,.0f}'.format(x_value)\n",
    "\n",
    "    # Create annotation\n",
    "    plt.annotate(\n",
    "        label,                      # Use `label` as label\n",
    "        (x_value, y_value),         # Place label at bar end\n",
    "        xytext=(space, 0),          # Horizontally shift label by `space`\n",
    "        textcoords='offset points', # Interpret `xytext` as offset in points\n",
    "        va='center',                # Vertically center label\n",
    "        ha=ha,                      # Horizontally align label differently for positive and negative values\n",
    "        color = 'white')            # Change label color to white\n",
    "             \n",
    "#Set x-label\n",
    "ax.set_xlabel(x_label, color='#696969')    "
   ]
  },
  {
   "cell_type": "code",
   "execution_count": 4,
   "metadata": {},
   "outputs": [
    {
     "data": {
      "text/html": [
       "<div>\n",
       "<style scoped>\n",
       "    .dataframe tbody tr th:only-of-type {\n",
       "        vertical-align: middle;\n",
       "    }\n",
       "\n",
       "    .dataframe tbody tr th {\n",
       "        vertical-align: top;\n",
       "    }\n",
       "\n",
       "    .dataframe thead th {\n",
       "        text-align: right;\n",
       "    }\n",
       "</style>\n",
       "<table border=\"1\" class=\"dataframe\">\n",
       "  <thead>\n",
       "    <tr style=\"text-align: right;\">\n",
       "      <th></th>\n",
       "      <th>GDP per capita (current US$)</th>\n",
       "      <th>International trade: Imports (million US$)</th>\n",
       "    </tr>\n",
       "    <tr>\n",
       "      <th>country</th>\n",
       "      <th></th>\n",
       "      <th></th>\n",
       "    </tr>\n",
       "  </thead>\n",
       "  <tbody>\n",
       "    <tr>\n",
       "      <th>Luxembourg</th>\n",
       "      <td>100,161</td>\n",
       "      <td>19,124</td>\n",
       "    </tr>\n",
       "    <tr>\n",
       "      <th>Bermuda</th>\n",
       "      <td>94,400</td>\n",
       "      <td>971</td>\n",
       "    </tr>\n",
       "    <tr>\n",
       "      <th>Switzerland</th>\n",
       "      <td>80,831</td>\n",
       "      <td>269,157</td>\n",
       "    </tr>\n",
       "    <tr>\n",
       "      <th>Macao</th>\n",
       "      <td>78,586</td>\n",
       "      <td>8,924</td>\n",
       "    </tr>\n",
       "    <tr>\n",
       "      <th>Norway</th>\n",
       "      <td>74,186</td>\n",
       "      <td>72,473</td>\n",
       "    </tr>\n",
       "    <tr>\n",
       "      <th>Qatar</th>\n",
       "      <td>73,653</td>\n",
       "      <td>32,058</td>\n",
       "    </tr>\n",
       "    <tr>\n",
       "      <th>Cayman Islands</th>\n",
       "      <td>62,132</td>\n",
       "      <td>991</td>\n",
       "    </tr>\n",
       "    <tr>\n",
       "      <th>Ireland</th>\n",
       "      <td>60,514</td>\n",
       "      <td>76,997</td>\n",
       "    </tr>\n",
       "    <tr>\n",
       "      <th>United States of America</th>\n",
       "      <td>56,054</td>\n",
       "      <td>2,249,661</td>\n",
       "    </tr>\n",
       "    <tr>\n",
       "      <th>Denmark</th>\n",
       "      <td>53,149</td>\n",
       "      <td>85,133</td>\n",
       "    </tr>\n",
       "  </tbody>\n",
       "</table>\n",
       "</div>"
      ],
      "text/plain": [
       "                          GDP per capita (current US$)  \\\n",
       "country                                                  \n",
       "Luxembourg                                     100,161   \n",
       "Bermuda                                         94,400   \n",
       "Switzerland                                     80,831   \n",
       "Macao                                           78,586   \n",
       "Norway                                          74,186   \n",
       "Qatar                                           73,653   \n",
       "Cayman Islands                                  62,132   \n",
       "Ireland                                         60,514   \n",
       "United States of America                        56,054   \n",
       "Denmark                                         53,149   \n",
       "\n",
       "                          International trade: Imports (million US$)  \n",
       "country                                                               \n",
       "Luxembourg                                                    19,124  \n",
       "Bermuda                                                          971  \n",
       "Switzerland                                                  269,157  \n",
       "Macao                                                          8,924  \n",
       "Norway                                                        72,473  \n",
       "Qatar                                                         32,058  \n",
       "Cayman Islands                                                   991  \n",
       "Ireland                                                       76,997  \n",
       "United States of America                                   2,249,661  \n",
       "Denmark                                                       85,133  "
      ]
     },
     "execution_count": 4,
     "metadata": {},
     "output_type": "execute_result"
    }
   ],
   "source": [
    "# Defining our data for the plot \n",
    "Dataset2 = Dataset.loc[:,['country','GDP per capita (current US$)','International trade: Imports (million US$)']]\n",
    "Dataset2.set_index('country', inplace=True)\n",
    "Dataset2['GDP per capita (current US$)'] = Dataset2['GDP per capita (current US$)'].astype(float)\n",
    "Dataset2['International trade: Imports (million US$)'] = Dataset2['International trade: Imports (million US$)'].astype(float)\n",
    "Dataset2 = Dataset2.sort_values(by='GDP per capita (current US$)', ascending=False).head(10)\n",
    "Dataset2"
   ]
  },
  {
   "cell_type": "code",
   "execution_count": 5,
   "metadata": {},
   "outputs": [
    {
     "data": {
      "image/png": "[encoded data removed]",
      "text/plain": [
       "<Figure size 1584x360 with 2 Axes>"
      ]
     },
     "metadata": {},
     "output_type": "display_data"
    }
   ],
   "source": [
    "# Variables used in plot\n",
    "font_color = '#525252'\n",
    "hfont = {'fontname':'Calibri'}\n",
    "facecolor = '#eaeaf2'\n",
    "color_red = '#db3236'\n",
    "color_blue = '#4885ed'\n",
    "index = Dataset2.index\n",
    "column0 = Dataset2['International trade: Imports (million US$)']\n",
    "column1 = Dataset2['GDP per capita (current US$)']\n",
    "title0 = 'International trade:Imports, In USD Million'\n",
    "title1 = 'GDP per capita, In current USD'\n",
    "# Initiating plot\n",
    "fig, axes = plt.subplots(figsize=(22,5), facecolor=facecolor, ncols=2, sharey=True)\n",
    "fig.tight_layout()\n",
    "\n",
    "axes[0].barh(index, column0, align='center', color=color_red, zorder=10)\n",
    "axes[0].set_title(title0, fontsize=18, pad=15, color=color_red, **hfont)\n",
    "axes[1].barh(index, column1, align='center', color=color_blue, zorder=10)\n",
    "axes[1].set_title(title1, fontsize=18, pad=15, color=color_blue, **hfont)\n",
    "\n",
    "# If you have positive numbers and want to invert the x-axis of the left plot\n",
    "axes[0].invert_xaxis() \n",
    "\n",
    "# To show data from highest to lowest\n",
    "plt.gca().invert_yaxis()\n",
    "\n",
    "axes[0].set(yticks=Dataset2.index, yticklabels=Dataset2.index)\n",
    "axes[0].yaxis.tick_left()\n",
    "axes[0].tick_params(axis='y', colors='black') # tick color\n",
    "\n",
    "axes[0].set_xticks([400000, 800000, 1200000, 1600000, 2000000, 2400000])\n",
    "\n",
    "axes[0].set_xticklabels([400000, 800000, 1200000, 1600000, 2000000, 2400000])\n",
    "\n",
    "axes[1].set_xticks([20000, 40000, 60000, 80000, 100000, 120000])\n",
    "\n",
    "axes[1].set_xticklabels([20000, 40000, 60000, 80000, 100000, 120000])\n",
    "\n",
    "for label in (axes[0].get_xticklabels() + axes[0].get_yticklabels()):\n",
    "    label.set(fontsize=13, color=font_color, **hfont)\n",
    "for label in (axes[1].get_xticklabels() + axes[1].get_yticklabels()):\n",
    "    label.set(fontsize=13, color=font_color, **hfont)\n",
    "    \n",
    "plt.subplots_adjust(wspace=0, top=0.85, bottom=0.1, left=0.18, right=0.95)"
   ]
  },
  {
   "cell_type": "markdown",
   "metadata": {},
   "source": [
    "### Insights :\n",
    "- Economically sound nations less rely on Imports (USA is an exception).\n",
    "- Poulation wise China and India are in Top 2 positions, But they failed to find a position in Top 10 nations by GDP. But USA which is an example of Developed nation, secured the 9th position even though it is third by population ranking.\n",
    "- Agriculture Production Index is not propotional to the Availability of Land."
   ]
  },
  {
   "cell_type": "markdown",
   "metadata": {},
   "source": [
    "### 3) Find out how many countries with respect to the region are availablein the dataset."
   ]
  },
  {
   "cell_type": "code",
   "execution_count": 30,
   "metadata": {},
   "outputs": [
    {
     "data": {
      "text/html": [
       "<div>\n",
       "<style scoped>\n",
       "    .dataframe tbody tr th:only-of-type {\n",
       "        vertical-align: middle;\n",
       "    }\n",
       "\n",
       "    .dataframe tbody tr th {\n",
       "        vertical-align: top;\n",
       "    }\n",
       "\n",
       "    .dataframe thead th {\n",
       "        text-align: right;\n",
       "    }\n",
       "</style>\n",
       "<table border=\"1\" class=\"dataframe\">\n",
       "  <thead>\n",
       "    <tr style=\"text-align: right;\">\n",
       "      <th></th>\n",
       "      <th>Region</th>\n",
       "    </tr>\n",
       "  </thead>\n",
       "  <tbody>\n",
       "    <tr>\n",
       "      <th>WesternAsia</th>\n",
       "      <td>18</td>\n",
       "    </tr>\n",
       "    <tr>\n",
       "      <th>EasternAfrica</th>\n",
       "      <td>17</td>\n",
       "    </tr>\n",
       "    <tr>\n",
       "      <th>Caribbean</th>\n",
       "      <td>16</td>\n",
       "    </tr>\n",
       "    <tr>\n",
       "      <th>WesternAfrica</th>\n",
       "      <td>15</td>\n",
       "    </tr>\n",
       "    <tr>\n",
       "      <th>SouthAmerica</th>\n",
       "      <td>12</td>\n",
       "    </tr>\n",
       "    <tr>\n",
       "      <th>SouthernEurope</th>\n",
       "      <td>12</td>\n",
       "    </tr>\n",
       "    <tr>\n",
       "      <th>South-easternAsia</th>\n",
       "      <td>11</td>\n",
       "    </tr>\n",
       "    <tr>\n",
       "      <th>EasternEurope</th>\n",
       "      <td>10</td>\n",
       "    </tr>\n",
       "    <tr>\n",
       "      <th>NorthernEurope</th>\n",
       "      <td>10</td>\n",
       "    </tr>\n",
       "    <tr>\n",
       "      <th>SouthernAsia</th>\n",
       "      <td>9</td>\n",
       "    </tr>\n",
       "    <tr>\n",
       "      <th>MiddleAfrica</th>\n",
       "      <td>9</td>\n",
       "    </tr>\n",
       "    <tr>\n",
       "      <th>CentralAmerica</th>\n",
       "      <td>8</td>\n",
       "    </tr>\n",
       "    <tr>\n",
       "      <th>WesternEurope</th>\n",
       "      <td>7</td>\n",
       "    </tr>\n",
       "    <tr>\n",
       "      <th>EasternAsia</th>\n",
       "      <td>7</td>\n",
       "    </tr>\n",
       "    <tr>\n",
       "      <th>SouthernAfrica</th>\n",
       "      <td>5</td>\n",
       "    </tr>\n",
       "    <tr>\n",
       "      <th>Polynesia</th>\n",
       "      <td>5</td>\n",
       "    </tr>\n",
       "    <tr>\n",
       "      <th>NorthernAfrica</th>\n",
       "      <td>5</td>\n",
       "    </tr>\n",
       "    <tr>\n",
       "      <th>Melanesia</th>\n",
       "      <td>5</td>\n",
       "    </tr>\n",
       "    <tr>\n",
       "      <th>CentralAsia</th>\n",
       "      <td>5</td>\n",
       "    </tr>\n",
       "    <tr>\n",
       "      <th>NorthernAmerica</th>\n",
       "      <td>4</td>\n",
       "    </tr>\n",
       "    <tr>\n",
       "      <th>Micronesia</th>\n",
       "      <td>4</td>\n",
       "    </tr>\n",
       "    <tr>\n",
       "      <th>Oceania</th>\n",
       "      <td>2</td>\n",
       "    </tr>\n",
       "  </tbody>\n",
       "</table>\n",
       "</div>"
      ],
      "text/plain": [
       "                   Region\n",
       "WesternAsia            18\n",
       "EasternAfrica          17\n",
       "Caribbean              16\n",
       "WesternAfrica          15\n",
       "SouthAmerica           12\n",
       "SouthernEurope         12\n",
       "South-easternAsia      11\n",
       "EasternEurope          10\n",
       "NorthernEurope         10\n",
       "SouthernAsia            9\n",
       "MiddleAfrica            9\n",
       "CentralAmerica          8\n",
       "WesternEurope           7\n",
       "EasternAsia             7\n",
       "SouthernAfrica          5\n",
       "Polynesia               5\n",
       "NorthernAfrica          5\n",
       "Melanesia               5\n",
       "CentralAsia             5\n",
       "NorthernAmerica         4\n",
       "Micronesia              4\n",
       "Oceania                 2"
      ]
     },
     "execution_count": 30,
     "metadata": {},
     "output_type": "execute_result"
    }
   ],
   "source": [
    "# Getting the Region specific country count (Sorted by count) using Dataframe.category.value_counts('Filters')\n",
    "Dataset.Region.value_counts(sort=True).to_frame()\n",
    "# Alternative method : Dataset.loc[:,['Region','country']].groupby('Region').size().to_frame()"
   ]
  },
  {
   "cell_type": "markdown",
   "metadata": {},
   "source": [
    "### Notes :\n",
    "Top 3 Regions by country count in the Dataframe\n",
    "- WesternAsia with 18 countries\n",
    "- EasternAfrica with 17 countries\n",
    "- Caribbean region with 16 countries"
   ]
  },
  {
   "cell_type": "markdown",
   "metadata": {},
   "source": [
    "### 4) On average which region has the highest\n",
    "- GDP per capita (current US$)\n",
    "- International trade: Imports (million US$)"
   ]
  },
  {
   "cell_type": "code",
   "execution_count": 10,
   "metadata": {},
   "outputs": [
    {
     "data": {
      "text/html": [
       "<div>\n",
       "<style scoped>\n",
       "    .dataframe tbody tr th:only-of-type {\n",
       "        vertical-align: middle;\n",
       "    }\n",
       "\n",
       "    .dataframe tbody tr th {\n",
       "        vertical-align: top;\n",
       "    }\n",
       "\n",
       "    .dataframe thead th {\n",
       "        text-align: right;\n",
       "    }\n",
       "</style>\n",
       "<table border=\"1\" class=\"dataframe\">\n",
       "  <thead>\n",
       "    <tr style=\"text-align: right;\">\n",
       "      <th></th>\n",
       "      <th>GDP per capita (current US$)</th>\n",
       "    </tr>\n",
       "    <tr>\n",
       "      <th>Region</th>\n",
       "      <th></th>\n",
       "    </tr>\n",
       "  </thead>\n",
       "  <tbody>\n",
       "    <tr>\n",
       "      <th>NorthernAmerica</th>\n",
       "      <td>57,659</td>\n",
       "    </tr>\n",
       "    <tr>\n",
       "      <th>WesternEurope</th>\n",
       "      <td>55,387</td>\n",
       "    </tr>\n",
       "    <tr>\n",
       "      <th>Oceania</th>\n",
       "      <td>44,823</td>\n",
       "    </tr>\n",
       "    <tr>\n",
       "      <th>NorthernEurope</th>\n",
       "      <td>42,098</td>\n",
       "    </tr>\n",
       "    <tr>\n",
       "      <th>EasternAsia</th>\n",
       "      <td>27,968</td>\n",
       "    </tr>\n",
       "  </tbody>\n",
       "</table>\n",
       "</div>"
      ],
      "text/plain": [
       "                 GDP per capita (current US$)\n",
       "Region                                       \n",
       "NorthernAmerica                        57,659\n",
       "WesternEurope                          55,387\n",
       "Oceania                                44,823\n",
       "NorthernEurope                         42,098\n",
       "EasternAsia                            27,968"
      ]
     },
     "execution_count": 10,
     "metadata": {},
     "output_type": "execute_result"
    }
   ],
   "source": [
    "# By GDP per capita (current US$)\n",
    "Dataset[['Region','GDP per capita (current US$)']].groupby('Region').mean().sort_values('GDP per capita (current US$)',ascending=False).head()"
   ]
  },
  {
   "cell_type": "markdown",
   "metadata": {},
   "source": [
    "### Notes :\n",
    "Top 3 Regions by Mean GDP per Capital (In USD)\n",
    "- Northern America\n",
    "- Western Europe\n",
    "- Oceania\n",
    "\n",
    "**Northern America has the highest Avg. GDP per capital worth 57659$**"
   ]
  },
  {
   "cell_type": "code",
   "execution_count": 9,
   "metadata": {},
   "outputs": [
    {
     "data": {
      "text/html": [
       "<div>\n",
       "<style scoped>\n",
       "    .dataframe tbody tr th:only-of-type {\n",
       "        vertical-align: middle;\n",
       "    }\n",
       "\n",
       "    .dataframe tbody tr th {\n",
       "        vertical-align: top;\n",
       "    }\n",
       "\n",
       "    .dataframe thead th {\n",
       "        text-align: right;\n",
       "    }\n",
       "</style>\n",
       "<table border=\"1\" class=\"dataframe\">\n",
       "  <thead>\n",
       "    <tr style=\"text-align: right;\">\n",
       "      <th></th>\n",
       "      <th>International trade: Imports (million US$)</th>\n",
       "    </tr>\n",
       "    <tr>\n",
       "      <th>Region</th>\n",
       "      <th></th>\n",
       "    </tr>\n",
       "  </thead>\n",
       "  <tbody>\n",
       "    <tr>\n",
       "      <th>NorthernAmerica</th>\n",
       "      <td>663,552</td>\n",
       "    </tr>\n",
       "    <tr>\n",
       "      <th>EasternAsia</th>\n",
       "      <td>451,995</td>\n",
       "    </tr>\n",
       "    <tr>\n",
       "      <th>WesternEurope</th>\n",
       "      <td>407,498</td>\n",
       "    </tr>\n",
       "    <tr>\n",
       "      <th>NorthernEurope</th>\n",
       "      <td>113,407</td>\n",
       "    </tr>\n",
       "    <tr>\n",
       "      <th>Oceania</th>\n",
       "      <td>112,914</td>\n",
       "    </tr>\n",
       "  </tbody>\n",
       "</table>\n",
       "</div>"
      ],
      "text/plain": [
       "                 International trade: Imports (million US$)\n",
       "Region                                                     \n",
       "NorthernAmerica                                     663,552\n",
       "EasternAsia                                         451,995\n",
       "WesternEurope                                       407,498\n",
       "NorthernEurope                                      113,407\n",
       "Oceania                                             112,914"
      ]
     },
     "execution_count": 9,
     "metadata": {},
     "output_type": "execute_result"
    }
   ],
   "source": [
    "# By International trade: Imports (million US$)\n",
    "Dataset[['Region','International trade: Imports (million US$)']].groupby('Region').mean().sort_values('International trade: Imports (million US$)',ascending=False).head()"
   ]
  },
  {
   "cell_type": "markdown",
   "metadata": {},
   "source": [
    "### Notes :\n",
    "Top 3 Regions by Mean International trade: Imports (In million USD)\n",
    "- Northern America\n",
    "- Eastern Asia\n",
    "- Western Europe\n",
    "\n",
    "**Northern America has the highest Avg. International trade: Imports (In million USD) worth 663552.25**"
   ]
  },
  {
   "cell_type": "markdown",
   "metadata": {},
   "source": [
    "### 5) Find out which region has more consistent with respect to GDP percapita (current US$)."
   ]
  },
  {
   "cell_type": "code",
   "execution_count": 8,
   "metadata": {},
   "outputs": [
    {
     "data": {
      "text/html": [
       "<div>\n",
       "<style scoped>\n",
       "    .dataframe tbody tr th:only-of-type {\n",
       "        vertical-align: middle;\n",
       "    }\n",
       "\n",
       "    .dataframe tbody tr th {\n",
       "        vertical-align: top;\n",
       "    }\n",
       "\n",
       "    .dataframe thead th {\n",
       "        text-align: right;\n",
       "    }\n",
       "</style>\n",
       "<table border=\"1\" class=\"dataframe\">\n",
       "  <thead>\n",
       "    <tr style=\"text-align: right;\">\n",
       "      <th></th>\n",
       "      <th>Region</th>\n",
       "      <th>GDP per capita (current US$)</th>\n",
       "    </tr>\n",
       "  </thead>\n",
       "  <tbody>\n",
       "    <tr>\n",
       "      <th>0</th>\n",
       "      <td>WesternAsia</td>\n",
       "      <td>1,106</td>\n",
       "    </tr>\n",
       "  </tbody>\n",
       "</table>\n",
       "</div>"
      ],
      "text/plain": [
       "        Region  GDP per capita (current US$)\n",
       "0  WesternAsia                         1,106"
      ]
     },
     "execution_count": 8,
     "metadata": {},
     "output_type": "execute_result"
    }
   ],
   "source": [
    "Dataset[['Region','GDP per capita (current US$)']].mode()"
   ]
  },
  {
   "cell_type": "markdown",
   "metadata": {},
   "source": [
    "### Notes :\n",
    "**WesternAsia has has more consistent with respect to GDP per capital**"
   ]
  }
 ],
 "metadata": {
  "interpreter": {
   "hash": "f8030cf6bfe42d848b4665c0485f3488232ff61eacf393368a39ef3266ddd82d"
  },
  "kernelspec": {
   "display_name": "Python 3.8.8 64-bit ('base': conda)",
   "language": "python",
   "name": "python3"
  },
  "language_info": {
   "codemirror_mode": {
    "name": "ipython",
    "version": 3
   },
   "file_extension": ".py",
   "mimetype": "text/x-python",
   "name": "python",
   "nbconvert_exporter": "python",
   "pygments_lexer": "ipython3",
   "version": "3.8.12"
  },
  "orig_nbformat": 4
 },
 "nbformat": 4,
 "nbformat_minor": 2
}
